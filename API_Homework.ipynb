{
 "cells": [
  {
   "cell_type": "code",
   "execution_count": 15,
   "metadata": {},
   "outputs": [
    {
     "name": "stdout",
     "output_type": "stream",
     "text": [
      "200\n",
      "{'results': [{'gender': 'male', 'name': {'title': 'Mr', 'first': 'Boban', 'last': 'Perić'}, 'location': {'street': {'number': 3429, 'name': 'Rekovačka Ulica'}, 'city': 'Subotica', 'state': 'North Bačka', 'country': 'Serbia', 'postcode': 72779, 'coordinates': {'latitude': '63.8845', 'longitude': '-17.2207'}, 'timezone': {'offset': '+9:30', 'description': 'Adelaide, Darwin'}}, 'email': 'boban.peric@example.com', 'login': {'uuid': '08e5bc7b-81fa-461c-b288-8293a1ea936f', 'username': 'orangelion603', 'password': 'berkeley', 'salt': 'Gh0NzeXo', 'md5': '045303e1438d9521e94204f37f9de25e', 'sha1': '51d4c553b924dc8b331237d7ee735e4c61faba48', 'sha256': 'bd5fc65b7dd82449a44e72329df881ff02dc2e04cc7f97841e87c10f3f380609'}, 'dob': {'date': '1953-09-20T05:02:56.112Z', 'age': 70}, 'registered': {'date': '2014-08-22T13:14:16.339Z', 'age': 9}, 'phone': '020-9652-495', 'cell': '068-6872-314', 'id': {'name': 'SID', 'value': '482636566'}, 'picture': {'large': 'https://randomuser.me/api/portraits/men/22.jpg', 'medium': 'https://randomuser.me/api/portraits/med/men/22.jpg', 'thumbnail': 'https://randomuser.me/api/portraits/thumb/men/22.jpg'}, 'nat': 'RS'}], 'info': {'seed': 'f033b37a9104a0c4', 'results': 1, 'page': 1, 'version': '1.4'}}\n"
     ]
    }
   ],
   "source": [
    "import requests\n",
    "response = requests.get(\"https://api.randomuser.me/\")\n",
    "\n",
    "print(response.status_code)\n",
    "\n",
    "parameters = {\"nat\": \"USA\", \"gender\": \"male\"}\n",
    "\n",
    "if response.status_code == 200:\n",
    "    data = response.json()  # Konvertiere die Antwort zu einem JSON-Objekt\n",
    "    print(data)  # Zeige die Daten an\n",
    "else:\n",
    "    print(f\"Request failed with status code: {response.status_code}\")"
   ]
  },
  {
   "cell_type": "code",
   "execution_count": 16,
   "metadata": {},
   "outputs": [
    {
     "name": "stdout",
     "output_type": "stream",
     "text": [
      "200\n",
      "{'results': [{'gender': 'male', 'name': {'title': 'Mr', 'first': 'Jeffery', 'last': 'Carlson'}, 'location': {'street': {'number': 7367, 'name': 'Adams St'}, 'city': 'Escondido', 'state': 'Maine', 'country': 'United States', 'postcode': 94711, 'coordinates': {'latitude': '-86.5145', 'longitude': '-8.2100'}, 'timezone': {'offset': '+5:00', 'description': 'Ekaterinburg, Islamabad, Karachi, Tashkent'}}, 'email': 'jeffery.carlson@example.com', 'login': {'uuid': '1bb045ff-03e9-4256-95fc-ba69b672b6c0', 'username': 'greenzebra829', 'password': 'surprise', 'salt': '0do3Khvx', 'md5': 'dc32e3729a48d86e007dc0f10184ebfd', 'sha1': '786b8e2a38ed8238a3f5cde453bd68943ed85455', 'sha256': '161f05e28ecd8d960eee3a489a6fc499f6130da7e4fc3318900683f8e3a01034'}, 'dob': {'date': '1986-12-24T01:35:11.347Z', 'age': 37}, 'registered': {'date': '2014-12-20T18:29:12.174Z', 'age': 9}, 'phone': '(674) 517-4709', 'cell': '(958) 332-7748', 'id': {'name': 'SSN', 'value': '517-36-7608'}, 'picture': {'large': 'https://randomuser.me/api/portraits/men/43.jpg', 'medium': 'https://randomuser.me/api/portraits/med/men/43.jpg', 'thumbnail': 'https://randomuser.me/api/portraits/thumb/men/43.jpg'}, 'nat': 'US'}], 'info': {'seed': 'c70ab2d6cf687e1a', 'results': 1, 'page': 1, 'version': '1.4'}}\n",
      "Jeffery\n",
      "['Jasmin Moghbeli', 'Andreas Mogensen', 'Satoshi Furukawa', 'Konstantin Borisov', 'Oleg Kononenko', 'Nikolai Chub', \"Loral O'Hara\"]\n",
      "Total number of people in space: 7\n"
     ]
    }
   ],
   "source": [
    "import requests\n",
    "\n",
    "parameters = {\"nat\": \"US\", \"gender\": \"male\"}  # Beachte die Änderung von \"USA\" zu \"US\"\n",
    "\n",
    "response = requests.get(\"https://api.randomuser.me/\", params=parameters)\n",
    "\n",
    "print(response.status_code)\n",
    "\n",
    "if response.status_code == 200:\n",
    "    data = response.json()  # Konvertiere die Antwort zu einem JSON-Objekt\n",
    "    print(data)  # Zeige die Daten an\n",
    "else:\n",
    "    print(response.status_code)\n",
    "\n",
    "for client_info in data[\"results\"]:\n",
    "    print(client_info[\"name\"][\"first\"])\n",
    "\n",
    "\n",
    "def get_people_in_space():\n",
    "    url = \"http://api.open-notify.org/astros.json\"\n",
    "    response = requests.get(url)\n",
    "    if response.status_code == 200:\n",
    "        data = response.json()\n",
    "        return [person[\"name\"] for person in data[\"people\"]]\n",
    "    else:\n",
    "        return None\n",
    "\n",
    "print(get_people_in_space())\n",
    "\n",
    "def current_people_in_space():\n",
    "    url = \"http://api.open-notify.org/astros.json\"\n",
    "    response = requests.get(url)\n",
    "    if response.status_code == 200:\n",
    "        data = response.json()\n",
    "        return data[\"number\"], [person[\"name\"] for person in data[\"people\"]]\n",
    "    else:\n",
    "        return None, None\n",
    "\n",
    "# Call the function and print the result\n",
    "total_people, people_names = current_people_in_space()\n",
    "\n",
    "if total_people is not None:\n",
    "    print(f\"Total number of people in space: {total_people}\")\n",
    "else:\n",
    "    print(\"No people in space currently\")"
   ]
  },
  {
   "cell_type": "code",
   "execution_count": 17,
   "metadata": {},
   "outputs": [
    {
     "name": "stdout",
     "output_type": "stream",
     "text": [
      "{'results': [{'gender': 'male', 'name': {'title': 'Mr', 'first': 'Jeffery', 'last': 'Carlson'}, 'location': {'street': {'number': 7367, 'name': 'Adams St'}, 'city': 'Escondido', 'state': 'Maine', 'country': 'United States', 'postcode': 94711, 'coordinates': {'latitude': '-86.5145', 'longitude': '-8.2100'}, 'timezone': {'offset': '+5:00', 'description': 'Ekaterinburg, Islamabad, Karachi, Tashkent'}}, 'email': 'jeffery.carlson@example.com', 'login': {'uuid': '1bb045ff-03e9-4256-95fc-ba69b672b6c0', 'username': 'greenzebra829', 'password': 'surprise', 'salt': '0do3Khvx', 'md5': 'dc32e3729a48d86e007dc0f10184ebfd', 'sha1': '786b8e2a38ed8238a3f5cde453bd68943ed85455', 'sha256': '161f05e28ecd8d960eee3a489a6fc499f6130da7e4fc3318900683f8e3a01034'}, 'dob': {'date': '1986-12-24T01:35:11.347Z', 'age': 37}, 'registered': {'date': '2014-12-20T18:29:12.174Z', 'age': 9}, 'phone': '(674) 517-4709', 'cell': '(958) 332-7748', 'id': {'name': 'SSN', 'value': '517-36-7608'}, 'picture': {'large': 'https://randomuser.me/api/portraits/men/43.jpg', 'medium': 'https://randomuser.me/api/portraits/med/men/43.jpg', 'thumbnail': 'https://randomuser.me/api/portraits/thumb/men/43.jpg'}, 'nat': 'US'}], 'info': {'seed': 'c70ab2d6cf687e1a', 'results': 1, 'page': 1, 'version': '1.4'}}\n",
      "'Jeffery'\n"
     ]
    }
   ],
   "source": [
    "import pprint\n",
    "\n",
    "if response.status_code == 200:\n",
    "    data = response.json()  # Konvertiere die Antwort zu einem JSON-Objekt\n",
    "    print(data)  # Zeige die Daten an\n",
    "else:\n",
    "    print(response.status_code)\n",
    "\n",
    "for client_info in data[\"results\"]:\n",
    "    pprint.pp(client_info[\"name\"][\"first\"])"
   ]
  },
  {
   "cell_type": "code",
   "execution_count": 1,
   "metadata": {},
   "outputs": [
    {
     "name": "stderr",
     "output_type": "stream",
     "text": [
      "2024-05-22 16:53:46.024 \n",
      "  \u001b[33m\u001b[1mWarning:\u001b[0m to view this Streamlit app on a browser, run it with the following\n",
      "  command:\n",
      "\n",
      "    streamlit run /Library/Frameworks/Python.framework/Versions/3.11/lib/python3.11/site-packages/ipykernel_launcher.py [ARGUMENTS]\n"
     ]
    }
   ],
   "source": [
    "import requests\n",
    "import streamlit as st\n",
    "\n",
    "# API url for people in space data\n",
    "api_url = \"http://api.open-notify.org/astros.json\"\n",
    "\n",
    "def get_astronauts():\n",
    "  \"\"\"Fetches data on astronauts in space from the API\"\"\"\n",
    "  response = requests.get(api_url)\n",
    "  data = response.json()\n",
    "  return data[\"people\"]\n",
    "\n",
    "# Title and description\n",
    "st.title(\"Astronauts in Space Right Now!\")\n",
    "st.markdown(\"This application uses the Open Notify API to display the number of people currently orbiting Earth.\")\n",
    "\n",
    "# Get astronaut data\n",
    "astronauts = get_astronauts()\n",
    "\n",
    "# Display total number of astronauts\n",
    "st.header(f\"Total Astronauts: {len(astronauts)}\")\n",
    "\n",
    "# Display astronaut names\n",
    "st.subheader(\"Names:\")\n",
    "for astronaut in astronauts:\n",
    "  st.write(astronaut[\"name\"])\n"
   ]
  },
  {
   "cell_type": "code",
   "execution_count": null,
   "metadata": {},
   "outputs": [],
   "source": []
  }
 ],
 "metadata": {
  "kernelspec": {
   "display_name": "Python 3",
   "language": "python",
   "name": "python3"
  },
  "language_info": {
   "codemirror_mode": {
    "name": "ipython",
    "version": 3
   },
   "file_extension": ".py",
   "mimetype": "text/x-python",
   "name": "python",
   "nbconvert_exporter": "python",
   "pygments_lexer": "ipython3",
   "version": "3.11.6"
  }
 },
 "nbformat": 4,
 "nbformat_minor": 2
}
